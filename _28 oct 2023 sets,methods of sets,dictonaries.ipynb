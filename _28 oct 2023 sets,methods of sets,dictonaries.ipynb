{
 "cells": [
  {
   "cell_type": "markdown",
   "id": "1ca481da",
   "metadata": {},
   "source": [
    "#  28-10-2023 \n",
    "\n",
    "# Documantation of (sets, methods of sets and Dictonaries) "
   ]
  },
  {
   "cell_type": "markdown",
   "id": "1397d718",
   "metadata": {},
   "source": [
    "##  sets"
   ]
  },
  {
   "cell_type": "markdown",
   "id": "2cf079da",
   "metadata": {},
   "source": [
    "###  sets are a cluster of heterogeneous data valus they are't orderd\n",
    "##### we declare sets by using{]\n",
    "##### sets dont't have duplicate values\n",
    "#####      we can use set class to perform type casting\n",
    "#####      sets have methods that are unique "
   ]
  },
  {
   "cell_type": "markdown",
   "id": "f6fa6140",
   "metadata": {},
   "source": [
    "### how to create an empty set"
   ]
  },
  {
   "cell_type": "code",
   "execution_count": 40,
   "id": "ed27c677",
   "metadata": {},
   "outputs": [
    {
     "name": "stdout",
     "output_type": "stream",
     "text": [
      "set()\n",
      "<class 'set'>\n",
      "0\n",
      "0x1ffe701aea0\n"
     ]
    }
   ],
   "source": [
    "x = set()\n",
    "print(x, type(x), len(x),hex(id(x)), sep = '\\n')\n"
   ]
  },
  {
   "cell_type": "code",
   "execution_count": 58,
   "id": "207ac999",
   "metadata": {},
   "outputs": [
    {
     "name": "stdout",
     "output_type": "stream",
     "text": [
      "(1, 2.2, (3+3j), 'four', <built-in function print>, <class 'range'>, True)\n",
      "<class 'tuple'>\n",
      "7\n",
      "0x1ffe730dae0\n",
      "{1, 2.2, <built-in function print>, (3+3j), 'four'}\n",
      "<class 'set'>\n",
      "5\n",
      "0x1ffe701bca0\n"
     ]
    }
   ],
   "source": [
    "x, y = (1, 2.2, 3+3j , 'four' , print, range, True),set ([1, 2.2, 3+3j, 'four', print,])\n",
    "print(x,type(x), len(x),hex(id(x)), sep = '\\n')\n",
    "print(y,type(y), len(y),hex(id(y)), sep = '\\n')"
   ]
  },
  {
   "cell_type": "code",
   "execution_count": 19,
   "id": "f1cb3901",
   "metadata": {},
   "outputs": [
    {
     "data": {
      "text/plain": [
       "{1, 2}"
      ]
     },
     "execution_count": 19,
     "metadata": {},
     "output_type": "execute_result"
    }
   ],
   "source": [
    "a = {1,1,1,2,2,2}\n",
    "a"
   ]
  },
  {
   "cell_type": "markdown",
   "id": "32d9f0ca",
   "metadata": {},
   "source": [
    "# methods of sets"
   ]
  },
  {
   "cell_type": "code",
   "execution_count": 38,
   "id": "916cd98e",
   "metadata": {},
   "outputs": [
    {
     "data": {
      "text/plain": [
       "['__and__',\n",
       " '__class__',\n",
       " '__class_getitem__',\n",
       " '__contains__',\n",
       " '__delattr__',\n",
       " '__dir__',\n",
       " '__doc__',\n",
       " '__eq__',\n",
       " '__format__',\n",
       " '__ge__',\n",
       " '__getattribute__',\n",
       " '__getstate__',\n",
       " '__gt__',\n",
       " '__hash__',\n",
       " '__iand__',\n",
       " '__init__',\n",
       " '__init_subclass__',\n",
       " '__ior__',\n",
       " '__isub__',\n",
       " '__iter__',\n",
       " '__ixor__',\n",
       " '__le__',\n",
       " '__len__',\n",
       " '__lt__',\n",
       " '__ne__',\n",
       " '__new__',\n",
       " '__or__',\n",
       " '__rand__',\n",
       " '__reduce__',\n",
       " '__reduce_ex__',\n",
       " '__repr__',\n",
       " '__ror__',\n",
       " '__rsub__',\n",
       " '__rxor__',\n",
       " '__setattr__',\n",
       " '__sizeof__',\n",
       " '__str__',\n",
       " '__sub__',\n",
       " '__subclasshook__',\n",
       " '__xor__',\n",
       " 'add',\n",
       " 'clear',\n",
       " 'copy',\n",
       " 'difference',\n",
       " 'difference_update',\n",
       " 'discard',\n",
       " 'intersection',\n",
       " 'intersection_update',\n",
       " 'isdisjoint',\n",
       " 'issubset',\n",
       " 'issuperset',\n",
       " 'pop',\n",
       " 'remove',\n",
       " 'symmetric_difference',\n",
       " 'symmetric_difference_update',\n",
       " 'union',\n",
       " 'update']"
      ]
     },
     "execution_count": 38,
     "metadata": {},
     "output_type": "execute_result"
    }
   ],
   "source": [
    "dir(set)"
   ]
  },
  {
   "cell_type": "code",
   "execution_count": null,
   "id": "4cdb6756",
   "metadata": {},
   "outputs": [],
   "source": []
  },
  {
   "cell_type": "code",
   "execution_count": 27,
   "id": "2c827766",
   "metadata": {},
   "outputs": [
    {
     "data": {
      "text/plain": [
       "{1, 2, 3, 4, 5}"
      ]
     },
     "execution_count": 27,
     "metadata": {},
     "output_type": "execute_result"
    }
   ],
   "source": [
    "x = (1,2,3,4,5)\n",
    "x"
   ]
  },
  {
   "cell_type": "markdown",
   "id": "c225707c",
   "metadata": {},
   "source": [
    "### add()"
   ]
  },
  {
   "cell_type": "markdown",
   "id": "b39af971",
   "metadata": {},
   "source": [
    "####  in this will add a specific value to the set"
   ]
  },
  {
   "cell_type": "code",
   "execution_count": 29,
   "id": "5fa79bc9",
   "metadata": {},
   "outputs": [
    {
     "data": {
      "text/plain": [
       "{1, 2, 3, 4, 5, 6}"
      ]
     },
     "execution_count": 29,
     "metadata": {},
     "output_type": "execute_result"
    }
   ],
   "source": [
    "x.add(6)     # x = (1,2,3,4,5)\n",
    "x"
   ]
  },
  {
   "cell_type": "markdown",
   "id": "17640e08",
   "metadata": {},
   "source": [
    "### update()"
   ]
  },
  {
   "cell_type": "code",
   "execution_count": null,
   "id": "dfed5614",
   "metadata": {},
   "outputs": [],
   "source": [
    "it will be ubdate the old set and give the new set with update\n",
    "\n",
    "example"
   ]
  },
  {
   "cell_type": "code",
   "execution_count": 30,
   "id": "a7503c11",
   "metadata": {},
   "outputs": [
    {
     "data": {
      "text/plain": [
       "{1, 2, 3, 4, 5, 6, 15}"
      ]
     },
     "execution_count": 30,
     "metadata": {},
     "output_type": "execute_result"
    }
   ],
   "source": [
    "x.update((5,15))                  # x = (1,2,3,4,5)\n",
    "x"
   ]
  },
  {
   "cell_type": "markdown",
   "id": "49c9a8fa",
   "metadata": {},
   "source": [
    "### remove()"
   ]
  },
  {
   "cell_type": "markdown",
   "id": "db70d18f",
   "metadata": {},
   "source": [
    "#### it will be remove the specific character in set"
   ]
  },
  {
   "cell_type": "code",
   "execution_count": 26,
   "id": "f3870e11",
   "metadata": {},
   "outputs": [
    {
     "data": {
      "text/plain": [
       "{1, 2, 4}"
      ]
     },
     "execution_count": 26,
     "metadata": {},
     "output_type": "execute_result"
    }
   ],
   "source": [
    "my_set = {1, 2, 3, 4}\n",
    "my_set.remove(3)\n",
    "my_set"
   ]
  },
  {
   "cell_type": "markdown",
   "id": "d8509563",
   "metadata": {},
   "source": [
    "### discard()"
   ]
  },
  {
   "cell_type": "markdown",
   "id": "d03f3432",
   "metadata": {},
   "source": [
    " #### is used to remove a specified element from a set. "
   ]
  },
  {
   "cell_type": "markdown",
   "id": "e3fe1ebf",
   "metadata": {},
   "source": [
    " #### If the element is present in the set, it is removed; if the element is not in the set, discard() does nothing and does not raise an error."
   ]
  },
  {
   "cell_type": "code",
   "execution_count": 29,
   "id": "03f85fc4",
   "metadata": {},
   "outputs": [
    {
     "data": {
      "text/plain": [
       "{1, 2, 4, 5}"
      ]
     },
     "execution_count": 29,
     "metadata": {},
     "output_type": "execute_result"
    }
   ],
   "source": [
    "my_set = {1, 2, 3, 4, 5}\n",
    "\n",
    "                                       # Remove an element from the set\n",
    "my_set.discard(3) \n",
    "my_set"
   ]
  },
  {
   "cell_type": "code",
   "execution_count": 33,
   "id": "a7cfb713",
   "metadata": {},
   "outputs": [
    {
     "data": {
      "text/plain": [
       "{1, 2, 3, 4, 5, 6, 15}"
      ]
     },
     "execution_count": 33,
     "metadata": {},
     "output_type": "execute_result"
    }
   ],
   "source": [
    "x.discard(9)\n",
    "x"
   ]
  },
  {
   "cell_type": "markdown",
   "id": "736c1f2d",
   "metadata": {},
   "source": [
    "### pop()"
   ]
  },
  {
   "cell_type": "markdown",
   "id": "4915c843",
   "metadata": {},
   "source": [
    "#### method is not a valid operation on sets because sets are unordered collections of unique elements, and there is no concept of indexing or order in a set"
   ]
  },
  {
   "cell_type": "code",
   "execution_count": 34,
   "id": "3cdc82ac",
   "metadata": {},
   "outputs": [
    {
     "data": {
      "text/plain": [
       "(1, {2, 3, 4, 5, 6, 15})"
      ]
     },
     "execution_count": 34,
     "metadata": {},
     "output_type": "execute_result"
    }
   ],
   "source": [
    "a = x.pop()\n",
    "a,x"
   ]
  },
  {
   "cell_type": "markdown",
   "id": "83a65242",
   "metadata": {},
   "source": [
    "### clear()"
   ]
  },
  {
   "cell_type": "markdown",
   "id": "ac4e58be",
   "metadata": {},
   "source": [
    " #### method is used with sets to remove all the elements from the set, effectively making it an empty set."
   ]
  },
  {
   "cell_type": "markdown",
   "id": "a9c85158",
   "metadata": {},
   "source": [
    " #### This method is used to clear the content of the set without deleting the set itself."
   ]
  },
  {
   "cell_type": "code",
   "execution_count": 15,
   "id": "a5538c36",
   "metadata": {},
   "outputs": [
    {
     "name": "stdout",
     "output_type": "stream",
     "text": [
      "set()\n"
     ]
    }
   ],
   "source": [
    "my_set = {1, 2, 3, 4, 5}\n",
    "my_set.clear()\n",
    "\n",
    "print(my_set) "
   ]
  },
  {
   "cell_type": "code",
   "execution_count": 35,
   "id": "2b6958e3",
   "metadata": {},
   "outputs": [
    {
     "data": {
      "text/plain": [
       "set()"
      ]
     },
     "execution_count": 35,
     "metadata": {},
     "output_type": "execute_result"
    }
   ],
   "source": [
    "x.clear()\n",
    "x"
   ]
  },
  {
   "cell_type": "code",
   "execution_count": 36,
   "id": "591fa5b9",
   "metadata": {},
   "outputs": [
    {
     "data": {
      "text/plain": [
       "set()"
      ]
     },
     "execution_count": 36,
     "metadata": {},
     "output_type": "execute_result"
    }
   ],
   "source": [
    "x"
   ]
  },
  {
   "cell_type": "code",
   "execution_count": null,
   "id": "b82c70d9",
   "metadata": {},
   "outputs": [],
   "source": []
  },
  {
   "cell_type": "code",
   "execution_count": 45,
   "id": "5ef0747a",
   "metadata": {},
   "outputs": [
    {
     "name": "stdout",
     "output_type": "stream",
     "text": [
      "{1, 2, 3, 4, 5}\n",
      "{4, 5, 6, 7, 8}\n",
      "{1, 2, 3, 4, 5, 6, 7, 8}\n",
      "{'a', 'b', 'c'}\n"
     ]
    }
   ],
   "source": [
    "a = {1,2,3,4,5}\n",
    "b = {4,5,6,7,8}\n",
    "c = set(range(1,9))\n",
    "d = {'a','b','c'}\n",
    "\n",
    "print(a,b,c,d,sep = '\\n')"
   ]
  },
  {
   "cell_type": "markdown",
   "id": "44472a07",
   "metadata": {},
   "source": [
    "### isdisjoint()"
   ]
  },
  {
   "cell_type": "code",
   "execution_count": 46,
   "id": "81e11eff",
   "metadata": {},
   "outputs": [
    {
     "data": {
      "text/plain": [
       "False"
      ]
     },
     "execution_count": 46,
     "metadata": {},
     "output_type": "execute_result"
    }
   ],
   "source": [
    "a.isdisjoint(b)"
   ]
  },
  {
   "cell_type": "markdown",
   "id": "a960c7c9",
   "metadata": {},
   "source": [
    "### issuperset()"
   ]
  },
  {
   "cell_type": "code",
   "execution_count": 47,
   "id": "2362fa49",
   "metadata": {},
   "outputs": [
    {
     "data": {
      "text/plain": [
       "True"
      ]
     },
     "execution_count": 47,
     "metadata": {},
     "output_type": "execute_result"
    }
   ],
   "source": [
    "c.issuperset(a)"
   ]
  },
  {
   "cell_type": "markdown",
   "id": "5ed6730c",
   "metadata": {},
   "source": [
    "### issubset()             "
   ]
  },
  {
   "cell_type": "code",
   "execution_count": 49,
   "id": "ad09a787",
   "metadata": {},
   "outputs": [
    {
     "data": {
      "text/plain": [
       "True"
      ]
     },
     "execution_count": 49,
     "metadata": {},
     "output_type": "execute_result"
    }
   ],
   "source": [
    "a.issubset(c)"
   ]
  },
  {
   "cell_type": "markdown",
   "id": "dddd1243",
   "metadata": {},
   "source": [
    "### intersection()"
   ]
  },
  {
   "cell_type": "markdown",
   "id": "73cb41d5",
   "metadata": {},
   "source": [
    " #### is used to return a new set that contains the elements that are common to two or more sets."
   ]
  },
  {
   "cell_type": "markdown",
   "id": "3d29d699",
   "metadata": {},
   "source": [
    "#### The intersection of sets is a new set that contains only the elements that are present in all of the sets involved."
   ]
  },
  {
   "cell_type": "code",
   "execution_count": 12,
   "id": "1f18856e",
   "metadata": {},
   "outputs": [
    {
     "name": "stdout",
     "output_type": "stream",
     "text": [
      "{4}\n"
     ]
    }
   ],
   "source": [
    "set1 = {1, 2, 3, 4}\n",
    "set2 = {3, 4, 5, 6}\n",
    "set3 = {4, 6, 7, 8}\n",
    "\n",
    "result_set = set1.intersection(set2, set3)\n",
    "\n",
    "print(result_set)"
   ]
  },
  {
   "cell_type": "code",
   "execution_count": 14,
   "id": "070508c4",
   "metadata": {},
   "outputs": [
    {
     "name": "stdout",
     "output_type": "stream",
     "text": [
      "{4}\n"
     ]
    }
   ],
   "source": [
    "set1 = {1, 2, 3, 4}\n",
    "set2 = {3, 4, 5, 6}\n",
    "set3 = {4, 6, 7, 8}\n",
    "\n",
    "result_set = set3.intersection(set1, set2)              # how we change the set !,set2, set3, also same result\n",
    "\n",
    "print(result_set)"
   ]
  },
  {
   "cell_type": "code",
   "execution_count": 53,
   "id": "b0558867",
   "metadata": {},
   "outputs": [
    {
     "data": {
      "text/plain": [
       "{4, 5}"
      ]
     },
     "execution_count": 53,
     "metadata": {},
     "output_type": "execute_result"
    }
   ],
   "source": [
    "a.intersection(b)                  #a = {1,2,3,4,5}\n",
    "                                   #b = {4,5,6,7,8}\n",
    "                                   #c = set(range(1,9))\n",
    "                                   #d = {'a','b','c'}\n"
   ]
  },
  {
   "cell_type": "code",
   "execution_count": 61,
   "id": "f4b0d937",
   "metadata": {},
   "outputs": [],
   "source": [
    "a.intersection_update(b)\n"
   ]
  },
  {
   "cell_type": "code",
   "execution_count": 52,
   "id": "ed65bbf6",
   "metadata": {},
   "outputs": [
    {
     "data": {
      "text/plain": [
       "set()"
      ]
     },
     "execution_count": 52,
     "metadata": {},
     "output_type": "execute_result"
    }
   ],
   "source": [
    "a.intersection(d)"
   ]
  },
  {
   "cell_type": "markdown",
   "id": "c5ccc861",
   "metadata": {},
   "source": [
    "### union()"
   ]
  },
  {
   "cell_type": "markdown",
   "id": "e296081c",
   "metadata": {},
   "source": [
    "#### is used to return a new set that contains all the unique elements from two or more sets."
   ]
  },
  {
   "cell_type": "code",
   "execution_count": 11,
   "id": "5bf1e2b8",
   "metadata": {},
   "outputs": [
    {
     "name": "stdout",
     "output_type": "stream",
     "text": [
      "{1, 2, 3, 4, 5, 6, 7}\n"
     ]
    }
   ],
   "source": [
    "set1 = {1, 2, 3}\n",
    "set2 = {3, 4, 5}\n",
    "set3 = {5, 6, 7}\n",
    "\n",
    "result_set = set1.union(set2, set3)\n",
    "\n",
    "print(result_set)"
   ]
  },
  {
   "cell_type": "code",
   "execution_count": 51,
   "id": "bf1b7f5a",
   "metadata": {},
   "outputs": [
    {
     "data": {
      "text/plain": [
       "{1, 2, 3, 4, 5, 6, 7, 8}"
      ]
     },
     "execution_count": 51,
     "metadata": {},
     "output_type": "execute_result"
    }
   ],
   "source": [
    "a.union(b)"
   ]
  },
  {
   "cell_type": "markdown",
   "id": "ef860483",
   "metadata": {},
   "source": [
    "### difference()"
   ]
  },
  {
   "cell_type": "markdown",
   "id": "8435f911",
   "metadata": {},
   "source": [
    " #### this method can be used to find the set difference between two sets."
   ]
  },
  {
   "cell_type": "markdown",
   "id": "551e4dd5",
   "metadata": {},
   "source": [
    " #### It returns a new set containing the elements that are in the first set but not in the second set."
   ]
  },
  {
   "cell_type": "code",
   "execution_count": 10,
   "id": "95e71830",
   "metadata": {},
   "outputs": [
    {
     "name": "stdout",
     "output_type": "stream",
     "text": [
      "{1, 2}\n"
     ]
    }
   ],
   "source": [
    "set1 = {1, 2, 3, 4}\n",
    "set2 = {3, 4, 5, 6}\n",
    "\n",
    "result_set = set1.difference(set2)\n",
    "\n",
    "print(result_set)"
   ]
  },
  {
   "cell_type": "code",
   "execution_count": 56,
   "id": "9ac53547",
   "metadata": {},
   "outputs": [
    {
     "data": {
      "text/plain": [
       "{1, 2, 3}"
      ]
     },
     "execution_count": 56,
     "metadata": {},
     "output_type": "execute_result"
    }
   ],
   "source": [
    "a.difference(b)                                           #a = {1,2,3,4,5}\n",
    "                                                          #b = {4,5,6,7,8}\n",
    "                                                          #c = set(range(1,9))\n",
    "                                                          #d = {'a','b','c'}\n"
   ]
  },
  {
   "cell_type": "code",
   "execution_count": 55,
   "id": "6c0e3a8e",
   "metadata": {},
   "outputs": [
    {
     "data": {
      "text/plain": [
       "{6, 7, 8}"
      ]
     },
     "execution_count": 55,
     "metadata": {},
     "output_type": "execute_result"
    }
   ],
   "source": [
    "b.difference(a)"
   ]
  },
  {
   "cell_type": "markdown",
   "id": "50a7c2d2",
   "metadata": {},
   "source": [
    "### symmetric difference"
   ]
  },
  {
   "cell_type": "markdown",
   "id": "8125ca77",
   "metadata": {},
   "source": [
    "#### that returns a new set containing elements that are unique to each of the input sets. "
   ]
  },
  {
   "cell_type": "code",
   "execution_count": 9,
   "id": "f0884fbc",
   "metadata": {},
   "outputs": [
    {
     "name": "stdout",
     "output_type": "stream",
     "text": [
      "{1, 2, 5, 6}\n"
     ]
    }
   ],
   "source": [
    "set1 = {1, 2, 3, 4}\n",
    "set2 = {3, 4, 5, 6}\n",
    "\n",
    "result_set = set1.symmetric_difference(set2)\n",
    "\n",
    "print(result_set) "
   ]
  },
  {
   "cell_type": "code",
   "execution_count": 57,
   "id": "543287e5",
   "metadata": {},
   "outputs": [
    {
     "data": {
      "text/plain": [
       "({1, 2, 3, 6, 7, 8}, {1, 2, 3, 6, 7, 8})"
      ]
     },
     "execution_count": 57,
     "metadata": {},
     "output_type": "execute_result"
    }
   ],
   "source": [
    "a.symmetric_difference(b), b.symmetric_difference(a)              # in this not showing the common characters"
   ]
  },
  {
   "cell_type": "markdown",
   "id": "d3dc2a14",
   "metadata": {},
   "source": [
    "### symmetric_difference_update()"
   ]
  },
  {
   "cell_type": "markdown",
   "id": "fd30c49b",
   "metadata": {},
   "source": [
    "#### that is used to update a set by removing elements that are present in both the set on which the method"
   ]
  },
  {
   "cell_type": "markdown",
   "id": "f35c8acc",
   "metadata": {},
   "source": [
    "##### and adding elements that are present in the other set but not in the original set"
   ]
  },
  {
   "cell_type": "code",
   "execution_count": 2,
   "id": "30c479ee",
   "metadata": {},
   "outputs": [
    {
     "name": "stdout",
     "output_type": "stream",
     "text": [
      "{1, 2, 5, 6}\n"
     ]
    }
   ],
   "source": [
    "y1 = {1, 2, 3, 4}\n",
    "y2 = {3, 4, 5, 6}\n",
    "\n",
    "y1.symmetric_difference_update(y2)\n",
    "\n",
    "print(y1) \n"
   ]
  },
  {
   "cell_type": "code",
   "execution_count": 3,
   "id": "f64b1336",
   "metadata": {},
   "outputs": [
    {
     "name": "stdout",
     "output_type": "stream",
     "text": [
      "{1, 2, 3, 4, 5}\n",
      "{4, 5, 6, 7, 8}\n",
      "{1, 2, 3, 4, 5, 6, 7, 8}\n",
      "{'b', 'a', 'c'}\n"
     ]
    }
   ],
   "source": [
    "a = {1,2,3,4,5}\n",
    "b = {4,5,6,7,8}\n",
    "c = set(range(1,9))\n",
    "d = {'a','b','c'}\n",
    "\n",
    "print(a,b,c,d,sep = '\\n')"
   ]
  },
  {
   "cell_type": "markdown",
   "id": "2b764565",
   "metadata": {},
   "source": [
    "##  Dictonaries"
   ]
  },
  {
   "cell_type": "markdown",
   "id": "a61ca40f",
   "metadata": {},
   "source": [
    "### dictonaries are key & value paris enclosed in {}\n",
    " \n",
    " ##### key and value are seperated by (:) while key and values pairs are seperated by (,)\n",
    " ##### keys are mapped to there values\n",
    " ##### in dictonaries , keysare unique,we can't have duplicate keys.we can haveduplicate values\n",
    " ##### dictionaries are unordered and mutable . keys of dictonaries canbe used to iterate over values\n",
    " ##### {} is an empty dictionary\n",
    " ##### dict is class 0f dictionary"
   ]
  },
  {
   "cell_type": "code",
   "execution_count": 73,
   "id": "3880c3a6",
   "metadata": {},
   "outputs": [
    {
     "data": {
      "text/plain": [
       "{1: [1, 2, 3], 'hello': ['hi']}"
      ]
     },
     "execution_count": 73,
     "metadata": {},
     "output_type": "execute_result"
    }
   ],
   "source": [
    "x = {1:[1,2,3],\n",
    "     'hello':(4,5,6),\n",
    "     'hello': ['hi']}\n",
    "x"
   ]
  }
 ],
 "metadata": {
  "kernelspec": {
   "display_name": "Python 3 (ipykernel)",
   "language": "python",
   "name": "python3"
  },
  "language_info": {
   "codemirror_mode": {
    "name": "ipython",
    "version": 3
   },
   "file_extension": ".py",
   "mimetype": "text/x-python",
   "name": "python",
   "nbconvert_exporter": "python",
   "pygments_lexer": "ipython3",
   "version": "3.11.5"
  }
 },
 "nbformat": 4,
 "nbformat_minor": 5
}
